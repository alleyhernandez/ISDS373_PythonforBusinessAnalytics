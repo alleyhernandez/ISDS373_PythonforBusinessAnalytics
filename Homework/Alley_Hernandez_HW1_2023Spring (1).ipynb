{
  "cells": [
    {
      "cell_type": "markdown",
      "metadata": {
        "id": "KPw7se1lNj49"
      },
      "source": [
        "# Homework Assignment 1\n",
        "\n",
        "<font color='red'>Deadline: Feb 5, 2023, Sunday, 11:55pm</font>  \n",
        "        \n",
        "Please follow the instructions to complete your codes and then rename the\n",
        "notebook as \"FirstName_LastName_HW1.ipynb\" and upload it through the submission link\n",
        "on the course website before the deadline."
      ]
    },
    {
      "cell_type": "markdown",
      "source": [
        "### Q1. Variable Assignment\n",
        "\n",
        "In python, a variable allows you to refer to a value with a name. To create a variable, we use <code>=</code>, like this example:\n",
        "```python\n",
        "x = 5\n",
        "```\n",
        "Then you can now use the name of this variable, <code>x</code>, instead of the actual value, 5, later.\n",
        "\n",
        "Now, please create a variable <code>savings</code> with value 100. Then check out this value by typing <code>print(savings)</code> in the script. In the following code cell, write two lines of code.  The first line creates a variable <code>savings</code> with value 100 and the second line prints out the value of the variable <code>savings</code>.\n"
      ],
      "metadata": {
        "id": "hDdR0BJHSvXO"
      }
    },
    {
      "cell_type": "code",
      "execution_count": null,
      "metadata": {
        "id": "K3Hh9wRFNj5C",
        "colab": {
          "base_uri": "https://localhost:8080/"
        },
        "outputId": "498852aa-935b-48c5-e892-dc703e9fab8a"
      },
      "outputs": [
        {
          "output_type": "stream",
          "name": "stdout",
          "text": [
            "Your savings are 100 dollars\n"
          ]
        }
      ],
      "source": [
        "## Type your code here\n",
        "\n",
        "# Create a variable savings\n",
        "savings = 100\n",
        "\n",
        "\n",
        "\n",
        "# print out the value of the variable savings\n",
        "print(\"Your savings are \" + str(savings) + \" dollars\")\n",
        "\n"
      ]
    },
    {
      "cell_type": "markdown",
      "metadata": {
        "id": "dH7nFImPNj5A"
      },
      "source": [
        "### Q2. Python as a calculator\n",
        "\n",
        "Python can be used to do basic calculatios. Apart from addition, substraction, multiplication, and devision, it also supports more\n",
        "advanced operations such as:\n",
        "\n",
        "* Exponentiation: <code>**</code>.\n",
        "\n",
        "This operator raises the number to its left to the power of the number to its right. For exmample,\n",
        "```python\n",
        "4 ** 2\n",
        "```\n",
        "will give $4^2=16$.\n",
        "\n",
        "Suppose that you have $\\$100$, which you can invest with a $8\\%$ return each year. After one year, it is $100\\times 1.08=108$ dollars, and after two years it is $100\\times 1.08 \\times 1.08=116.64$ dollars.  Add one line of code to calculate how much money you end up with after 10 years, and print the results.\n"
      ]
    },
    {
      "cell_type": "code",
      "source": [
        "## Type your code here\n",
        "print(100 * (1.08 ** 10))\n",
        "\n",
        "\n"
      ],
      "metadata": {
        "id": "fBsOf_4CTw5x",
        "colab": {
          "base_uri": "https://localhost:8080/"
        },
        "outputId": "f6919071-6b16-41ea-beca-aa53da7edd39"
      },
      "execution_count": null,
      "outputs": [
        {
          "output_type": "stream",
          "name": "stdout",
          "text": [
            "215.89249972727882\n"
          ]
        }
      ]
    },
    {
      "cell_type": "markdown",
      "source": [
        "### Q3. Calculations with variables and expressions\n",
        "\n",
        "In Question 2, we have calculated the money you ended up with after 10 years of investing $\\$100$. Instead of calculating with the actual values,\n",
        "you can use variables instead. The savings variable you've created in the previpous question represnets the $\\$100$ you started with.\n",
        "\n",
        "* You can create a variable <code>growth_multiplier</code>, equals to 1.08.\n",
        "* Create a variable, <code>result</code>, equals to the amonunt of money you saved after 10 years.\n",
        "* Print out the value of the variable <code>result</code>.\n",
        "\n",
        "Please compelte the code below.\n"
      ],
      "metadata": {
        "id": "rGgIVbLCUZNb"
      }
    },
    {
      "cell_type": "code",
      "source": [
        "## Type your code here\n",
        "\n",
        "# create a variable savings\n",
        "savings = 100\n",
        "\n",
        "# create a varianble growth_multiplier\n",
        "growth_multiplier = 1.08\n",
        "\n",
        "# create a varaible for ten years\n",
        "numyears = 10\n",
        "\n",
        "# Calculate result\n",
        "result = savings * (growth_multiplier ** numyears)\n",
        "\n",
        "\n",
        "# Print out result\n",
        "print (round(result, 2))\n"
      ],
      "metadata": {
        "id": "4Em2eJacWORp",
        "colab": {
          "base_uri": "https://localhost:8080/"
        },
        "outputId": "31c27792-7b6b-46eb-fad9-6a8fb701dd9f"
      },
      "execution_count": null,
      "outputs": [
        {
          "output_type": "stream",
          "name": "stdout",
          "text": [
            "215.89\n"
          ]
        }
      ]
    }
  ],
  "metadata": {
    "kernelspec": {
      "display_name": "Python 3",
      "language": "python",
      "name": "python3"
    },
    "language_info": {
      "codemirror_mode": {
        "name": "ipython",
        "version": 3
      },
      "file_extension": ".py",
      "mimetype": "text/x-python",
      "name": "python",
      "nbconvert_exporter": "python",
      "pygments_lexer": "ipython3",
      "version": "3.7.7"
    },
    "colab": {
      "provenance": []
    }
  },
  "nbformat": 4,
  "nbformat_minor": 0
}